{
 "cells": [
  {
   "cell_type": "code",
   "execution_count": 3,
   "id": "2cb33fee",
   "metadata": {},
   "outputs": [],
   "source": [
    "import selenium\n",
    "from selenium import webdriver as wb\n",
    "import pandas as pd\n",
    "import time\n",
    "from selenium.webdriver.common.by import By\n",
    "from tqdm import tqdm\n",
    "import numpy as np\n",
    "pd.options.mode.chained_assignment = None"
   ]
  },
  {
   "cell_type": "code",
   "execution_count": 86,
   "id": "0a884587",
   "metadata": {},
   "outputs": [],
   "source": [
    "page = webdriver.Chrome()"
   ]
  },
  {
   "cell_type": "code",
   "execution_count": 12,
   "id": "73e985c2",
   "metadata": {},
   "outputs": [],
   "source": [
    "# page = wb.Chrome('chromedriver.exe')\n",
    "page.get('https://market.yandex.ru/catalog--mobilnye-telefony/34512430/list?hid=91491')"
   ]
  },
  {
   "cell_type": "code",
   "execution_count": null,
   "id": "55db7335",
   "metadata": {},
   "outputs": [],
   "source": [
    "https://market.yandex.ru/catalog--mobilnye-telefony/34512430/list?hid=91491&rs=eJx1kL9LI0EUx2ejaFxFl6vyw2LOQlOZnV2TzWoi4boTEbGxUNxs1ok_yF0kmyhYLVx74B8gQrCwOLizOu44jUZQK0UUtBNS2IiKoIWChe57BDkEmw_D98ebN6Ms1Q0LewIpLSdcVp-A5Ncm0LPlkq6VgQ39LlN_--BMQKmOQSZlgF7dj7t04qCTIx2Ua0iSFZz2DC7ZhnNlCOg8QLeygpMT4FYeN4BboCQXULmHZBInJLvwrs_gOqOg0NFtyPxAJQ5KCifQk83XLrmFszP0DxS8PRnE7gQyhq0pTA4iy5Cn4-i24Vsw6WRwTwndO2D1AljyoHuKu3XCX6UqvXDXBmxCWuEVpXVMfsc9EzizG_8ZdacZf-9n-UQQvTvHO-sHqzePi5-eBDEoer2CRH0dtENqCDRN8oxZzBYMlZIQeTX91P-_ydD0oyn46mm95Ak01ky0GFrNPoEKkhQIWqZdNLOGZeZzRZtnDdWYKfAvtlHIzdHfVy2h891ZMVqrtNN2t0Lfq9jczFvThoK9y9MJUcPeB59IRbf38W0vz-253Fd7Zp7XqvTbWSZ0-CcmeQa8ipWOpa1JbURhGouqusyiuqpFwjwW0VhEyZiazC1d6UlzTY1oqilbTJejshxmYfYC4tDl_Q%2C%2C\n",
    "https://market.yandex.ru/catalog--mobilnye-telefony/34512430/list?hid=91491&rs=eJx1kD9IG1Ecx99F0fSUejjlj8PTQTM19-6SXE4TCW5KkdLFocXL5XxRS9pILmnB6cBVcBVECA4OgjqJokYjVKeKKOhWyNCl2CLooOCg9_sRRAtdvjy-n-_3937vKXMN74RDgZQXkq7W7kHJ2i6oZ89VulwBbep3Nb3VB2cCTu0DZNIG-LWjhKtOAnxyooPzB5JkEac9ACX7cK4Ogzq30K0u4uQk0OrdDugeOKlv6NxAMoUTUj141yBQZwQcOrIPmRV0EuCkcQI9233qkis4O8Pb4ODtqSB2R1Hj2BrH5FvUCuTpR6Rt-BZMOlncU0J6DVr7BVr2ID3H3brhr9LVXrhrBzYhr-EV5XVMzuKeSZz5Bv8ZfacFf2-1ciaI3oPTg_UfS3_vpgfmPWJQ9HoFifoiNCI1BV6N8axZyhUNhZIQeYJdtOs5VF9AP_U_hwyhH6Hga6SNkifQXIeIGKIWn0AFSQoELdMumTnDMgv5ks1zhmpMFvln2yjmp-jGZWvo5_dPYqxe6aAdboX-r2Jzs2BNuLtD7_f5qKhhr90nUtHtdf7bK3B7Kv_FnvzK61U6c5ENHW_GpYYhr2Jl4hlrTHuvMI3FVF1mMV3VomEej2osqmRNTeaWrkQyXFOjmmrKFtPlmCyHWZg9ApTC6qM%2C"
   ]
  },
  {
   "cell_type": "code",
   "execution_count": 27,
   "id": "0cc676a1",
   "metadata": {},
   "outputs": [],
   "source": [
    "def pageBottom_yandex(driver,sec = 1000): # Функция, чтобы прокрутить страницу вниз\n",
    "    from datetime import datetime, time\n",
    "    now = datetime.now()\n",
    "    beginning_of_day = datetime.combine(now.date(), time(0))\n",
    "\n",
    "    current_sec = 0\n",
    "    while current_sec < sec:\n",
    "        driver.execute_script(f\"window.scrollTo(0, 50);\")  \n",
    "        current_sec = now - beginning_of_day\n",
    "        print(current_sec)"
   ]
  },
  {
   "cell_type": "code",
   "execution_count": 30,
   "id": "36e9ef09",
   "metadata": {},
   "outputs": [
    {
     "name": "stdout",
     "output_type": "stream",
     "text": [
      "18:34:24.029844\n"
     ]
    }
   ],
   "source": [
    "from datetime import datetime, time\n",
    "\n",
    "now = datetime.now()\n",
    "beginning_of_day = datetime.combine(now.date(), time(0))\n",
    "print (now - beginning_of_day)"
   ]
  },
  {
   "cell_type": "markdown",
   "id": "aba8af05",
   "metadata": {},
   "source": [
    "# Работаем"
   ]
  },
  {
   "cell_type": "markdown",
   "id": "1ca089df",
   "metadata": {},
   "source": [
    "## Прочитаем и запишем"
   ]
  },
  {
   "cell_type": "code",
   "execution_count": 41,
   "id": "95cf9617",
   "metadata": {},
   "outputs": [],
   "source": [
    "def pageBottom_yandex(driver,a): # Функция, чтобы прокрутить страницу вниз\n",
    "    bottom=False\n",
    "    for i in range(0,100):\n",
    "        while not bottom:\n",
    "            new_height = driver.execute_script(\"return document.body.scrollHeight\")\n",
    "            driver.execute_script(f\"window.scrollTo(0, {a});\")\n",
    "            if a > new_height:\n",
    "                bottom=True\n",
    "            a+=50"
   ]
  },
  {
   "cell_type": "code",
   "execution_count": 60,
   "id": "8e47d2c0",
   "metadata": {
    "collapsed": true
   },
   "outputs": [
    {
     "name": "stdout",
     "output_type": "stream",
     "text": [
      "0\n",
      "1\n"
     ]
    },
    {
     "ename": "KeyboardInterrupt",
     "evalue": "",
     "output_type": "error",
     "traceback": [
      "\u001b[1;31m---------------------------------------------------------------------------\u001b[0m",
      "\u001b[1;31mKeyboardInterrupt\u001b[0m                         Traceback (most recent call last)",
      "Cell \u001b[1;32mIn[60], line 7\u001b[0m\n\u001b[0;32m      5\u001b[0m \u001b[38;5;28;01mimport\u001b[39;00m \u001b[38;5;21;01mtime\u001b[39;00m \n\u001b[0;32m      6\u001b[0m \u001b[38;5;28mprint\u001b[39m(i)\n\u001b[1;32m----> 7\u001b[0m pageBottom_yandex(page,a)\n\u001b[0;32m      8\u001b[0m time\u001b[38;5;241m.\u001b[39msleep(\u001b[38;5;241m5\u001b[39m)\n",
      "Cell \u001b[1;32mIn[41], line 6\u001b[0m, in \u001b[0;36mpageBottom_yandex\u001b[1;34m(driver, a)\u001b[0m\n\u001b[0;32m      4\u001b[0m \u001b[38;5;28;01mwhile\u001b[39;00m \u001b[38;5;129;01mnot\u001b[39;00m bottom:\n\u001b[0;32m      5\u001b[0m     new_height \u001b[38;5;241m=\u001b[39m driver\u001b[38;5;241m.\u001b[39mexecute_script(\u001b[38;5;124m\"\u001b[39m\u001b[38;5;124mreturn document.body.scrollHeight\u001b[39m\u001b[38;5;124m\"\u001b[39m)\n\u001b[1;32m----> 6\u001b[0m     driver\u001b[38;5;241m.\u001b[39mexecute_script(\u001b[38;5;124mf\u001b[39m\u001b[38;5;124m\"\u001b[39m\u001b[38;5;124mwindow.scrollTo(0, \u001b[39m\u001b[38;5;132;01m{\u001b[39;00ma\u001b[38;5;132;01m}\u001b[39;00m\u001b[38;5;124m);\u001b[39m\u001b[38;5;124m\"\u001b[39m)\n\u001b[0;32m      7\u001b[0m     \u001b[38;5;28;01mif\u001b[39;00m a \u001b[38;5;241m>\u001b[39m new_height:\n\u001b[0;32m      8\u001b[0m         bottom\u001b[38;5;241m=\u001b[39m\u001b[38;5;28;01mTrue\u001b[39;00m\n",
      "File \u001b[1;32mE:\\anaconda\\Lib\\site-packages\\selenium\\webdriver\\remote\\webdriver.py:407\u001b[0m, in \u001b[0;36mWebDriver.execute_script\u001b[1;34m(self, script, *args)\u001b[0m\n\u001b[0;32m    404\u001b[0m converted_args \u001b[38;5;241m=\u001b[39m \u001b[38;5;28mlist\u001b[39m(args)\n\u001b[0;32m    405\u001b[0m command \u001b[38;5;241m=\u001b[39m Command\u001b[38;5;241m.\u001b[39mW3C_EXECUTE_SCRIPT\n\u001b[1;32m--> 407\u001b[0m \u001b[38;5;28;01mreturn\u001b[39;00m \u001b[38;5;28mself\u001b[39m\u001b[38;5;241m.\u001b[39mexecute(command, {\u001b[38;5;124m\"\u001b[39m\u001b[38;5;124mscript\u001b[39m\u001b[38;5;124m\"\u001b[39m: script, \u001b[38;5;124m\"\u001b[39m\u001b[38;5;124margs\u001b[39m\u001b[38;5;124m\"\u001b[39m: converted_args})[\u001b[38;5;124m\"\u001b[39m\u001b[38;5;124mvalue\u001b[39m\u001b[38;5;124m\"\u001b[39m]\n",
      "File \u001b[1;32mE:\\anaconda\\Lib\\site-packages\\selenium\\webdriver\\remote\\webdriver.py:345\u001b[0m, in \u001b[0;36mWebDriver.execute\u001b[1;34m(self, driver_command, params)\u001b[0m\n\u001b[0;32m    342\u001b[0m     \u001b[38;5;28;01melif\u001b[39;00m \u001b[38;5;124m\"\u001b[39m\u001b[38;5;124msessionId\u001b[39m\u001b[38;5;124m\"\u001b[39m \u001b[38;5;129;01mnot\u001b[39;00m \u001b[38;5;129;01min\u001b[39;00m params:\n\u001b[0;32m    343\u001b[0m         params[\u001b[38;5;124m\"\u001b[39m\u001b[38;5;124msessionId\u001b[39m\u001b[38;5;124m\"\u001b[39m] \u001b[38;5;241m=\u001b[39m \u001b[38;5;28mself\u001b[39m\u001b[38;5;241m.\u001b[39msession_id\n\u001b[1;32m--> 345\u001b[0m response \u001b[38;5;241m=\u001b[39m \u001b[38;5;28mself\u001b[39m\u001b[38;5;241m.\u001b[39mcommand_executor\u001b[38;5;241m.\u001b[39mexecute(driver_command, params)\n\u001b[0;32m    346\u001b[0m \u001b[38;5;28;01mif\u001b[39;00m response:\n\u001b[0;32m    347\u001b[0m     \u001b[38;5;28mself\u001b[39m\u001b[38;5;241m.\u001b[39merror_handler\u001b[38;5;241m.\u001b[39mcheck_response(response)\n",
      "File \u001b[1;32mE:\\anaconda\\Lib\\site-packages\\selenium\\webdriver\\remote\\remote_connection.py:302\u001b[0m, in \u001b[0;36mRemoteConnection.execute\u001b[1;34m(self, command, params)\u001b[0m\n\u001b[0;32m    300\u001b[0m trimmed \u001b[38;5;241m=\u001b[39m \u001b[38;5;28mself\u001b[39m\u001b[38;5;241m.\u001b[39m_trim_large_entries(params)\n\u001b[0;32m    301\u001b[0m LOGGER\u001b[38;5;241m.\u001b[39mdebug(\u001b[38;5;124m\"\u001b[39m\u001b[38;5;132;01m%s\u001b[39;00m\u001b[38;5;124m \u001b[39m\u001b[38;5;132;01m%s\u001b[39;00m\u001b[38;5;124m \u001b[39m\u001b[38;5;132;01m%s\u001b[39;00m\u001b[38;5;124m\"\u001b[39m, command_info[\u001b[38;5;241m0\u001b[39m], url, \u001b[38;5;28mstr\u001b[39m(trimmed))\n\u001b[1;32m--> 302\u001b[0m \u001b[38;5;28;01mreturn\u001b[39;00m \u001b[38;5;28mself\u001b[39m\u001b[38;5;241m.\u001b[39m_request(command_info[\u001b[38;5;241m0\u001b[39m], url, body\u001b[38;5;241m=\u001b[39mdata)\n",
      "File \u001b[1;32mE:\\anaconda\\Lib\\site-packages\\selenium\\webdriver\\remote\\remote_connection.py:322\u001b[0m, in \u001b[0;36mRemoteConnection._request\u001b[1;34m(self, method, url, body)\u001b[0m\n\u001b[0;32m    319\u001b[0m     body \u001b[38;5;241m=\u001b[39m \u001b[38;5;28;01mNone\u001b[39;00m\n\u001b[0;32m    321\u001b[0m \u001b[38;5;28;01mif\u001b[39;00m \u001b[38;5;28mself\u001b[39m\u001b[38;5;241m.\u001b[39mkeep_alive:\n\u001b[1;32m--> 322\u001b[0m     response \u001b[38;5;241m=\u001b[39m \u001b[38;5;28mself\u001b[39m\u001b[38;5;241m.\u001b[39m_conn\u001b[38;5;241m.\u001b[39mrequest(method, url, body\u001b[38;5;241m=\u001b[39mbody, headers\u001b[38;5;241m=\u001b[39mheaders)\n\u001b[0;32m    323\u001b[0m     statuscode \u001b[38;5;241m=\u001b[39m response\u001b[38;5;241m.\u001b[39mstatus\n\u001b[0;32m    324\u001b[0m \u001b[38;5;28;01melse\u001b[39;00m:\n",
      "File \u001b[1;32mE:\\anaconda\\Lib\\site-packages\\urllib3\\_request_methods.py:118\u001b[0m, in \u001b[0;36mRequestMethods.request\u001b[1;34m(self, method, url, body, fields, headers, json, **urlopen_kw)\u001b[0m\n\u001b[0;32m    110\u001b[0m     \u001b[38;5;28;01mreturn\u001b[39;00m \u001b[38;5;28mself\u001b[39m\u001b[38;5;241m.\u001b[39mrequest_encode_url(\n\u001b[0;32m    111\u001b[0m         method,\n\u001b[0;32m    112\u001b[0m         url,\n\u001b[1;32m   (...)\u001b[0m\n\u001b[0;32m    115\u001b[0m         \u001b[38;5;241m*\u001b[39m\u001b[38;5;241m*\u001b[39murlopen_kw,\n\u001b[0;32m    116\u001b[0m     )\n\u001b[0;32m    117\u001b[0m \u001b[38;5;28;01melse\u001b[39;00m:\n\u001b[1;32m--> 118\u001b[0m     \u001b[38;5;28;01mreturn\u001b[39;00m \u001b[38;5;28mself\u001b[39m\u001b[38;5;241m.\u001b[39mrequest_encode_body(\n\u001b[0;32m    119\u001b[0m         method, url, fields\u001b[38;5;241m=\u001b[39mfields, headers\u001b[38;5;241m=\u001b[39mheaders, \u001b[38;5;241m*\u001b[39m\u001b[38;5;241m*\u001b[39murlopen_kw\n\u001b[0;32m    120\u001b[0m     )\n",
      "File \u001b[1;32mE:\\anaconda\\Lib\\site-packages\\urllib3\\_request_methods.py:217\u001b[0m, in \u001b[0;36mRequestMethods.request_encode_body\u001b[1;34m(self, method, url, fields, headers, encode_multipart, multipart_boundary, **urlopen_kw)\u001b[0m\n\u001b[0;32m    213\u001b[0m     extra_kw[\u001b[38;5;124m\"\u001b[39m\u001b[38;5;124mheaders\u001b[39m\u001b[38;5;124m\"\u001b[39m]\u001b[38;5;241m.\u001b[39msetdefault(\u001b[38;5;124m\"\u001b[39m\u001b[38;5;124mContent-Type\u001b[39m\u001b[38;5;124m\"\u001b[39m, content_type)\n\u001b[0;32m    215\u001b[0m extra_kw\u001b[38;5;241m.\u001b[39mupdate(urlopen_kw)\n\u001b[1;32m--> 217\u001b[0m \u001b[38;5;28;01mreturn\u001b[39;00m \u001b[38;5;28mself\u001b[39m\u001b[38;5;241m.\u001b[39murlopen(method, url, \u001b[38;5;241m*\u001b[39m\u001b[38;5;241m*\u001b[39mextra_kw)\n",
      "File \u001b[1;32mE:\\anaconda\\Lib\\site-packages\\urllib3\\poolmanager.py:443\u001b[0m, in \u001b[0;36mPoolManager.urlopen\u001b[1;34m(self, method, url, redirect, **kw)\u001b[0m\n\u001b[0;32m    441\u001b[0m     response \u001b[38;5;241m=\u001b[39m conn\u001b[38;5;241m.\u001b[39murlopen(method, url, \u001b[38;5;241m*\u001b[39m\u001b[38;5;241m*\u001b[39mkw)\n\u001b[0;32m    442\u001b[0m \u001b[38;5;28;01melse\u001b[39;00m:\n\u001b[1;32m--> 443\u001b[0m     response \u001b[38;5;241m=\u001b[39m conn\u001b[38;5;241m.\u001b[39murlopen(method, u\u001b[38;5;241m.\u001b[39mrequest_uri, \u001b[38;5;241m*\u001b[39m\u001b[38;5;241m*\u001b[39mkw)\n\u001b[0;32m    445\u001b[0m redirect_location \u001b[38;5;241m=\u001b[39m redirect \u001b[38;5;129;01mand\u001b[39;00m response\u001b[38;5;241m.\u001b[39mget_redirect_location()\n\u001b[0;32m    446\u001b[0m \u001b[38;5;28;01mif\u001b[39;00m \u001b[38;5;129;01mnot\u001b[39;00m redirect_location:\n",
      "File \u001b[1;32mE:\\anaconda\\Lib\\site-packages\\urllib3\\connectionpool.py:791\u001b[0m, in \u001b[0;36mHTTPConnectionPool.urlopen\u001b[1;34m(self, method, url, body, headers, retries, redirect, assert_same_host, timeout, pool_timeout, release_conn, chunked, body_pos, preload_content, decode_content, **response_kw)\u001b[0m\n\u001b[0;32m    788\u001b[0m response_conn \u001b[38;5;241m=\u001b[39m conn \u001b[38;5;28;01mif\u001b[39;00m \u001b[38;5;129;01mnot\u001b[39;00m release_conn \u001b[38;5;28;01melse\u001b[39;00m \u001b[38;5;28;01mNone\u001b[39;00m\n\u001b[0;32m    790\u001b[0m \u001b[38;5;66;03m# Make the request on the HTTPConnection object\u001b[39;00m\n\u001b[1;32m--> 791\u001b[0m response \u001b[38;5;241m=\u001b[39m \u001b[38;5;28mself\u001b[39m\u001b[38;5;241m.\u001b[39m_make_request(\n\u001b[0;32m    792\u001b[0m     conn,\n\u001b[0;32m    793\u001b[0m     method,\n\u001b[0;32m    794\u001b[0m     url,\n\u001b[0;32m    795\u001b[0m     timeout\u001b[38;5;241m=\u001b[39mtimeout_obj,\n\u001b[0;32m    796\u001b[0m     body\u001b[38;5;241m=\u001b[39mbody,\n\u001b[0;32m    797\u001b[0m     headers\u001b[38;5;241m=\u001b[39mheaders,\n\u001b[0;32m    798\u001b[0m     chunked\u001b[38;5;241m=\u001b[39mchunked,\n\u001b[0;32m    799\u001b[0m     retries\u001b[38;5;241m=\u001b[39mretries,\n\u001b[0;32m    800\u001b[0m     response_conn\u001b[38;5;241m=\u001b[39mresponse_conn,\n\u001b[0;32m    801\u001b[0m     preload_content\u001b[38;5;241m=\u001b[39mpreload_content,\n\u001b[0;32m    802\u001b[0m     decode_content\u001b[38;5;241m=\u001b[39mdecode_content,\n\u001b[0;32m    803\u001b[0m     \u001b[38;5;241m*\u001b[39m\u001b[38;5;241m*\u001b[39mresponse_kw,\n\u001b[0;32m    804\u001b[0m )\n\u001b[0;32m    806\u001b[0m \u001b[38;5;66;03m# Everything went great!\u001b[39;00m\n\u001b[0;32m    807\u001b[0m clean_exit \u001b[38;5;241m=\u001b[39m \u001b[38;5;28;01mTrue\u001b[39;00m\n",
      "File \u001b[1;32mE:\\anaconda\\Lib\\site-packages\\urllib3\\connectionpool.py:537\u001b[0m, in \u001b[0;36mHTTPConnectionPool._make_request\u001b[1;34m(self, conn, method, url, body, headers, retries, timeout, chunked, response_conn, preload_content, decode_content, enforce_content_length)\u001b[0m\n\u001b[0;32m    535\u001b[0m \u001b[38;5;66;03m# Receive the response from the server\u001b[39;00m\n\u001b[0;32m    536\u001b[0m \u001b[38;5;28;01mtry\u001b[39;00m:\n\u001b[1;32m--> 537\u001b[0m     response \u001b[38;5;241m=\u001b[39m conn\u001b[38;5;241m.\u001b[39mgetresponse()\n\u001b[0;32m    538\u001b[0m \u001b[38;5;28;01mexcept\u001b[39;00m (BaseSSLError, \u001b[38;5;167;01mOSError\u001b[39;00m) \u001b[38;5;28;01mas\u001b[39;00m e:\n\u001b[0;32m    539\u001b[0m     \u001b[38;5;28mself\u001b[39m\u001b[38;5;241m.\u001b[39m_raise_timeout(err\u001b[38;5;241m=\u001b[39me, url\u001b[38;5;241m=\u001b[39murl, timeout_value\u001b[38;5;241m=\u001b[39mread_timeout)\n",
      "File \u001b[1;32mE:\\anaconda\\Lib\\site-packages\\urllib3\\connection.py:461\u001b[0m, in \u001b[0;36mHTTPConnection.getresponse\u001b[1;34m(self)\u001b[0m\n\u001b[0;32m    458\u001b[0m \u001b[38;5;28;01mfrom\u001b[39;00m \u001b[38;5;21;01m.\u001b[39;00m\u001b[38;5;21;01mresponse\u001b[39;00m \u001b[38;5;28;01mimport\u001b[39;00m HTTPResponse\n\u001b[0;32m    460\u001b[0m \u001b[38;5;66;03m# Get the response from http.client.HTTPConnection\u001b[39;00m\n\u001b[1;32m--> 461\u001b[0m httplib_response \u001b[38;5;241m=\u001b[39m \u001b[38;5;28msuper\u001b[39m()\u001b[38;5;241m.\u001b[39mgetresponse()\n\u001b[0;32m    463\u001b[0m \u001b[38;5;28;01mtry\u001b[39;00m:\n\u001b[0;32m    464\u001b[0m     assert_header_parsing(httplib_response\u001b[38;5;241m.\u001b[39mmsg)\n",
      "File \u001b[1;32mE:\\anaconda\\Lib\\http\\client.py:1386\u001b[0m, in \u001b[0;36mHTTPConnection.getresponse\u001b[1;34m(self)\u001b[0m\n\u001b[0;32m   1384\u001b[0m \u001b[38;5;28;01mtry\u001b[39;00m:\n\u001b[0;32m   1385\u001b[0m     \u001b[38;5;28;01mtry\u001b[39;00m:\n\u001b[1;32m-> 1386\u001b[0m         response\u001b[38;5;241m.\u001b[39mbegin()\n\u001b[0;32m   1387\u001b[0m     \u001b[38;5;28;01mexcept\u001b[39;00m \u001b[38;5;167;01mConnectionError\u001b[39;00m:\n\u001b[0;32m   1388\u001b[0m         \u001b[38;5;28mself\u001b[39m\u001b[38;5;241m.\u001b[39mclose()\n",
      "File \u001b[1;32mE:\\anaconda\\Lib\\http\\client.py:325\u001b[0m, in \u001b[0;36mHTTPResponse.begin\u001b[1;34m(self)\u001b[0m\n\u001b[0;32m    323\u001b[0m \u001b[38;5;66;03m# read until we get a non-100 response\u001b[39;00m\n\u001b[0;32m    324\u001b[0m \u001b[38;5;28;01mwhile\u001b[39;00m \u001b[38;5;28;01mTrue\u001b[39;00m:\n\u001b[1;32m--> 325\u001b[0m     version, status, reason \u001b[38;5;241m=\u001b[39m \u001b[38;5;28mself\u001b[39m\u001b[38;5;241m.\u001b[39m_read_status()\n\u001b[0;32m    326\u001b[0m     \u001b[38;5;28;01mif\u001b[39;00m status \u001b[38;5;241m!=\u001b[39m CONTINUE:\n\u001b[0;32m    327\u001b[0m         \u001b[38;5;28;01mbreak\u001b[39;00m\n",
      "File \u001b[1;32mE:\\anaconda\\Lib\\http\\client.py:286\u001b[0m, in \u001b[0;36mHTTPResponse._read_status\u001b[1;34m(self)\u001b[0m\n\u001b[0;32m    285\u001b[0m \u001b[38;5;28;01mdef\u001b[39;00m \u001b[38;5;21m_read_status\u001b[39m(\u001b[38;5;28mself\u001b[39m):\n\u001b[1;32m--> 286\u001b[0m     line \u001b[38;5;241m=\u001b[39m \u001b[38;5;28mstr\u001b[39m(\u001b[38;5;28mself\u001b[39m\u001b[38;5;241m.\u001b[39mfp\u001b[38;5;241m.\u001b[39mreadline(_MAXLINE \u001b[38;5;241m+\u001b[39m \u001b[38;5;241m1\u001b[39m), \u001b[38;5;124m\"\u001b[39m\u001b[38;5;124miso-8859-1\u001b[39m\u001b[38;5;124m\"\u001b[39m)\n\u001b[0;32m    287\u001b[0m     \u001b[38;5;28;01mif\u001b[39;00m \u001b[38;5;28mlen\u001b[39m(line) \u001b[38;5;241m>\u001b[39m _MAXLINE:\n\u001b[0;32m    288\u001b[0m         \u001b[38;5;28;01mraise\u001b[39;00m LineTooLong(\u001b[38;5;124m\"\u001b[39m\u001b[38;5;124mstatus line\u001b[39m\u001b[38;5;124m\"\u001b[39m)\n",
      "File \u001b[1;32mE:\\anaconda\\Lib\\socket.py:706\u001b[0m, in \u001b[0;36mSocketIO.readinto\u001b[1;34m(self, b)\u001b[0m\n\u001b[0;32m    704\u001b[0m \u001b[38;5;28;01mwhile\u001b[39;00m \u001b[38;5;28;01mTrue\u001b[39;00m:\n\u001b[0;32m    705\u001b[0m     \u001b[38;5;28;01mtry\u001b[39;00m:\n\u001b[1;32m--> 706\u001b[0m         \u001b[38;5;28;01mreturn\u001b[39;00m \u001b[38;5;28mself\u001b[39m\u001b[38;5;241m.\u001b[39m_sock\u001b[38;5;241m.\u001b[39mrecv_into(b)\n\u001b[0;32m    707\u001b[0m     \u001b[38;5;28;01mexcept\u001b[39;00m timeout:\n\u001b[0;32m    708\u001b[0m         \u001b[38;5;28mself\u001b[39m\u001b[38;5;241m.\u001b[39m_timeout_occurred \u001b[38;5;241m=\u001b[39m \u001b[38;5;28;01mTrue\u001b[39;00m\n",
      "\u001b[1;31mKeyboardInterrupt\u001b[0m: "
     ]
    }
   ],
   "source": [
    "page.get('https://market.yandex.ru/catalog--mobilnye-telefony/34512430/list?hid=91491&how=dprice&rs=eJx9kE1o02AYx5NaZk39CJ7SD-V1B5eTTZp-pbZSdpvIEC9jKEuTNLGFri1Nux0N7CrKzmNQDyoIzoOI061bLy2IiDCc0FsPHpQJAz0oVNE-z2Kdorv8efn_n9_z8YZvH7pMt2mqsZQeaK8PSq2sg7o2BkruNUFHLgw0u3oe3hQ4vatQk1XA73VSA7VT4FOvZXA-QiW1jN1-QEptwrs1CWp_Aba1jJ3TkLa-roFugJOZR-czVGawQ2YMZ01Aak-BQ6Y2oeYBOilwstiBbK0PWWoX3vbkc3BweiaA7AxqAqnrWHkJtQn15BqmJ_AWrLRN3JPF9BNo7x1ow4XpNu52Fv4q20rCrDXYhDoOVzQeYeVN3DONPc_hP6Nve_H3Hja3aMbTfv-9s_Cy_7g2fsvNBBiPh2YJN0pG2RH_kZxhqvViTZEIxVPD0Ed8-0MRQx-GNOcmbtblP-yEGMUxOskxhGFZ_xldtepqUdHVarluGUWlaliVcskqzBmKZahVPU8W3pr8q6cJRkLQwyVJcgCe0lSroP_mKkW1UHIQJUyW3tzgu3fqjOhAsAjrDxwAkd1veb69Ou4gXo4mNCB_LygphZoxaym1coU82TnKf9ieYSLOTXvI6QNuAqq_eIx_tmMyMWfQ3k-Q_w0a3rS4EuW7nQkmjVyQC5LggBubLeeMfdh8oZZX5go5o6xoaqlkVH_dB8t27047y3q5CIn8a9k_xyL14v40S1_0mDFVlgTZvBIW42JMksWoJApyJBTPGVFJj2u6EZe1hG4mNFVIiAlN0EVZiAlCSAyJPwFFKj81')\n",
    "a=0  \n",
    "for i in range(1,100):\n",
    "    print(a)\n",
    "    import time \n",
    "    print(i)\n",
    "    pageBottom_yandex(page,a)\n",
    "    time.sleep(5)        "
   ]
  },
  {
   "cell_type": "code",
   "execution_count": 72,
   "id": "e9443b4c",
   "metadata": {},
   "outputs": [
    {
     "name": "stdout",
     "output_type": "stream",
     "text": [
      "6040\n"
     ]
    }
   ],
   "source": [
    "import csv\n",
    "with open(f'href.csv', 'w', encoding=\"utf-8\", newline='') as file:\n",
    "    writer = csv.writer(file)\n",
    "    writer.writerow(('index','link'))\n",
    "    \n",
    "lst_of_links = set()   \n",
    "prod = page.find_elements(By.CLASS_NAME, \"cia-cs\")\n",
    "print(len(prod))\n",
    "index = 0\n",
    "for el in prod:\n",
    "    index +=1\n",
    "    try:\n",
    "        href_prod = el.find_element(By.CLASS_NAME,'EQlfk').get_property('href')\n",
    "        with open(f'href.csv', 'a', encoding=\"utf-8\", newline='') as file:\n",
    "            writer = csv.writer(file)\n",
    "            writer.writerow((index, href_prod))    \n",
    "    except:\n",
    "        continue"
   ]
  },
  {
   "cell_type": "markdown",
   "id": "c7d4da6e",
   "metadata": {},
   "source": [
    "## Соберем инфу"
   ]
  },
  {
   "cell_type": "code",
   "execution_count": 114,
   "id": "e52fdc85",
   "metadata": {},
   "outputs": [],
   "source": [
    "df = pd.read_csv('href.csv', encoding=\"utf-8\")\n",
    "link_data = df.link"
   ]
  },
  {
   "cell_type": "code",
   "execution_count": 118,
   "id": "9274750d",
   "metadata": {},
   "outputs": [],
   "source": [
    "href_page = link_data[5]"
   ]
  },
  {
   "cell_type": "code",
   "execution_count": 119,
   "id": "45c13316",
   "metadata": {},
   "outputs": [
    {
     "data": {
      "text/plain": [
       "'https://market.yandex.ru/product--xiaomi-mi-max-3-6-128-gb-global-sinii/135799396?sponsored=1&sku=100389228151&shopId=431782&do-waremd5=prLer69chUX3lLLyH3tziA&cpc=b_v3HsxTqYUpk-Xk3JNeIt91F3GyMme-wiIHZVMDAej0cdTr22MT_dyrGnVBo6Dvbab4wJ9MKQOi-M-yveTVnY3GKq-jXXeJE-QbgQN5-hJHi0JlHkyCcIlf3qkZYELjkN2o9qYS57RzOA4armLC__s7F_1oUH9d4k6ycWbejC6JU5FFl8n219wLq7Hnav80JfjxGk9D9P84DuW7lKHVMx9838Jbqa_wQ1eynNs3n-30LLv-H7_TDNN8b4CYS7bMMWMqBiJfWeO4v92hRrVnn5Zhpz2fzBi_&cc=CjIxNzE2Mzk0NjUxMjM3LzUyNWNmYTRkMWQ2OTVlZmY2YTNkN2I0NTBkMTkwNjAwLzEvMRDmAYB95u0G&uniqueId=920860'"
      ]
     },
     "execution_count": 119,
     "metadata": {},
     "output_type": "execute_result"
    }
   ],
   "source": [
    "href_page"
   ]
  },
  {
   "cell_type": "code",
   "execution_count": 120,
   "id": "344d5e29",
   "metadata": {
    "scrolled": true
   },
   "outputs": [],
   "source": [
    "href_page = link_data[5]\n",
    "page.get(href_page)"
   ]
  },
  {
   "cell_type": "code",
   "execution_count": 126,
   "id": "a2b2f7fe",
   "metadata": {
    "collapsed": true
   },
   "outputs": [
    {
     "data": {
      "text/plain": [
       "[<selenium.webdriver.remote.webelement.WebElement (session=\"0556491dc074dcb230c7d6751f33219b\", element=\"f.49938AEBEC03ACDD59A7B7113A61FE0E.d.459C350875C83F1352575F06D6A24376.e.625\")>,\n",
       " <selenium.webdriver.remote.webelement.WebElement (session=\"0556491dc074dcb230c7d6751f33219b\", element=\"f.49938AEBEC03ACDD59A7B7113A61FE0E.d.459C350875C83F1352575F06D6A24376.e.626\")>,\n",
       " <selenium.webdriver.remote.webelement.WebElement (session=\"0556491dc074dcb230c7d6751f33219b\", element=\"f.49938AEBEC03ACDD59A7B7113A61FE0E.d.459C350875C83F1352575F06D6A24376.e.627\")>,\n",
       " <selenium.webdriver.remote.webelement.WebElement (session=\"0556491dc074dcb230c7d6751f33219b\", element=\"f.49938AEBEC03ACDD59A7B7113A61FE0E.d.459C350875C83F1352575F06D6A24376.e.628\")>,\n",
       " <selenium.webdriver.remote.webelement.WebElement (session=\"0556491dc074dcb230c7d6751f33219b\", element=\"f.49938AEBEC03ACDD59A7B7113A61FE0E.d.459C350875C83F1352575F06D6A24376.e.629\")>]"
      ]
     },
     "execution_count": 126,
     "metadata": {},
     "output_type": "execute_result"
    }
   ],
   "source": [
    "page.find_elements(By.CLASS_NAME, \"_2ZKgm\")"
   ]
  },
  {
   "cell_type": "code",
   "execution_count": null,
   "id": "11172b7b",
   "metadata": {},
   "outputs": [],
   "source": [
    "page.find_elements(By.CLASS_NAME, '_3y1Lw _1MOwX _1bCJz _2WoY-')[-1].find_element(By.TAG_NAME, 'button').click()"
   ]
  },
  {
   "cell_type": "code",
   "execution_count": 125,
   "id": "c1cc7f56",
   "metadata": {},
   "outputs": [
    {
     "ename": "TypeError",
     "evalue": "list indices must be integers or slices, not WebElement",
     "output_type": "error",
     "traceback": [
      "\u001b[1;31m---------------------------------------------------------------------------\u001b[0m",
      "\u001b[1;31mTypeError\u001b[0m                                 Traceback (most recent call last)",
      "Cell \u001b[1;32mIn[125], line 2\u001b[0m\n\u001b[0;32m      1\u001b[0m \u001b[38;5;28;01mfor\u001b[39;00m i \u001b[38;5;129;01min\u001b[39;00m page\u001b[38;5;241m.\u001b[39mfind_elements(By\u001b[38;5;241m.\u001b[39mCLASS_NAME, \u001b[38;5;124m\"\u001b[39m\u001b[38;5;124m_2ZKgm\u001b[39m\u001b[38;5;124m\"\u001b[39m):\n\u001b[1;32m----> 2\u001b[0m     \u001b[38;5;28mprint\u001b[39m(page\u001b[38;5;241m.\u001b[39mfind_elements(By\u001b[38;5;241m.\u001b[39mCLASS_NAME, \u001b[38;5;124m\"\u001b[39m\u001b[38;5;124m_2ZKgm\u001b[39m\u001b[38;5;124m\"\u001b[39m)[i]\u001b[38;5;241m.\u001b[39mtext())\n",
      "\u001b[1;31mTypeError\u001b[0m: list indices must be integers or slices, not WebElement"
     ]
    }
   ],
   "source": [
    "for i in page.find_elements(By.CLASS_NAME, \"_2ZKgm\"):\n",
    "    print(page.find_elements(By.CLASS_NAME, \"_2ZKgm\")[i].text())"
   ]
  },
  {
   "cell_type": "code",
   "execution_count": 130,
   "id": "67e8b182",
   "metadata": {},
   "outputs": [],
   "source": [
    "for i in range(0,10):\n",
    "    try: \n",
    "        href_page = link_data[i]\n",
    "        page.get(href_page)\n",
    "        page.find_element(By.CLASS_NAME, \"_3y1Lw _1MOwX _1bCJz _2WoY-\").click()\n",
    "#         \n",
    "        print(href_page)\n",
    "        print(page.find_elements(By.CLASS_NAME, \"_2ZKgm\").text)    \n",
    "    except:    \n",
    "        continue"
   ]
  },
  {
   "cell_type": "code",
   "execution_count": 134,
   "id": "ec287386",
   "metadata": {},
   "outputs": [],
   "source": [
    "href_page = link_data[5]\n",
    "page.get(href_page)"
   ]
  },
  {
   "cell_type": "code",
   "execution_count": 137,
   "id": "6b56b01e",
   "metadata": {},
   "outputs": [
    {
     "data": {
      "text/plain": [
       "[]"
      ]
     },
     "execution_count": 137,
     "metadata": {},
     "output_type": "execute_result"
    }
   ],
   "source": [
    "page.find_elements(By.CSS_SELECTOR, '_3y1Lw _1MOwX _1bCJz _2WoY-')"
   ]
  },
  {
   "cell_type": "code",
   "execution_count": 136,
   "id": "5ed5909a",
   "metadata": {},
   "outputs": [
    {
     "ename": "AttributeError",
     "evalue": "'WebDriver' object has no attribute 'find_element_by_id'",
     "output_type": "error",
     "traceback": [
      "\u001b[1;31m---------------------------------------------------------------------------\u001b[0m",
      "\u001b[1;31mAttributeError\u001b[0m                            Traceback (most recent call last)",
      "Cell \u001b[1;32mIn[136], line 1\u001b[0m\n\u001b[1;32m----> 1\u001b[0m page\u001b[38;5;241m.\u001b[39mfind_element_by_id(\u001b[38;5;124m'\u001b[39m\u001b[38;5;124m_3y1Lw _1MOwX _1bCJz _2WoY-\u001b[39m\u001b[38;5;124m'\u001b[39m)\n",
      "\u001b[1;31mAttributeError\u001b[0m: 'WebDriver' object has no attribute 'find_element_by_id'"
     ]
    }
   ],
   "source": [
    "page.find_element_by_id('_3y1Lw _1MOwX _1bCJz _2WoY-')"
   ]
  },
  {
   "cell_type": "code",
   "execution_count": 141,
   "id": "d6867246",
   "metadata": {},
   "outputs": [
    {
     "data": {
      "text/plain": [
       "[<selenium.webdriver.remote.webelement.WebElement (session=\"0556491dc074dcb230c7d6751f33219b\", element=\"f.49938AEBEC03ACDD59A7B7113A61FE0E.d.7DF9494DBDCAA6F912E41228F56C549E.e.51088\")>,\n",
       " <selenium.webdriver.remote.webelement.WebElement (session=\"0556491dc074dcb230c7d6751f33219b\", element=\"f.49938AEBEC03ACDD59A7B7113A61FE0E.d.7DF9494DBDCAA6F912E41228F56C549E.e.51153\")>,\n",
       " <selenium.webdriver.remote.webelement.WebElement (session=\"0556491dc074dcb230c7d6751f33219b\", element=\"f.49938AEBEC03ACDD59A7B7113A61FE0E.d.7DF9494DBDCAA6F912E41228F56C549E.e.51154\")>,\n",
       " <selenium.webdriver.remote.webelement.WebElement (session=\"0556491dc074dcb230c7d6751f33219b\", element=\"f.49938AEBEC03ACDD59A7B7113A61FE0E.d.7DF9494DBDCAA6F912E41228F56C549E.e.50481\")>,\n",
       " <selenium.webdriver.remote.webelement.WebElement (session=\"0556491dc074dcb230c7d6751f33219b\", element=\"f.49938AEBEC03ACDD59A7B7113A61FE0E.d.7DF9494DBDCAA6F912E41228F56C549E.e.51096\")>,\n",
       " <selenium.webdriver.remote.webelement.WebElement (session=\"0556491dc074dcb230c7d6751f33219b\", element=\"f.49938AEBEC03ACDD59A7B7113A61FE0E.d.7DF9494DBDCAA6F912E41228F56C549E.e.51239\")>,\n",
       " <selenium.webdriver.remote.webelement.WebElement (session=\"0556491dc074dcb230c7d6751f33219b\", element=\"f.49938AEBEC03ACDD59A7B7113A61FE0E.d.7DF9494DBDCAA6F912E41228F56C549E.e.51979\")>,\n",
       " <selenium.webdriver.remote.webelement.WebElement (session=\"0556491dc074dcb230c7d6751f33219b\", element=\"f.49938AEBEC03ACDD59A7B7113A61FE0E.d.7DF9494DBDCAA6F912E41228F56C549E.e.58112\")>,\n",
       " <selenium.webdriver.remote.webelement.WebElement (session=\"0556491dc074dcb230c7d6751f33219b\", element=\"f.49938AEBEC03ACDD59A7B7113A61FE0E.d.7DF9494DBDCAA6F912E41228F56C549E.e.57469\")>,\n",
       " <selenium.webdriver.remote.webelement.WebElement (session=\"0556491dc074dcb230c7d6751f33219b\", element=\"f.49938AEBEC03ACDD59A7B7113A61FE0E.d.7DF9494DBDCAA6F912E41228F56C549E.e.51186\")>,\n",
       " <selenium.webdriver.remote.webelement.WebElement (session=\"0556491dc074dcb230c7d6751f33219b\", element=\"f.49938AEBEC03ACDD59A7B7113A61FE0E.d.7DF9494DBDCAA6F912E41228F56C549E.e.51008\")>,\n",
       " <selenium.webdriver.remote.webelement.WebElement (session=\"0556491dc074dcb230c7d6751f33219b\", element=\"f.49938AEBEC03ACDD59A7B7113A61FE0E.d.7DF9494DBDCAA6F912E41228F56C549E.e.51272\")>,\n",
       " <selenium.webdriver.remote.webelement.WebElement (session=\"0556491dc074dcb230c7d6751f33219b\", element=\"f.49938AEBEC03ACDD59A7B7113A61FE0E.d.7DF9494DBDCAA6F912E41228F56C549E.e.54418\")>,\n",
       " <selenium.webdriver.remote.webelement.WebElement (session=\"0556491dc074dcb230c7d6751f33219b\", element=\"f.49938AEBEC03ACDD59A7B7113A61FE0E.d.7DF9494DBDCAA6F912E41228F56C549E.e.54430\")>,\n",
       " <selenium.webdriver.remote.webelement.WebElement (session=\"0556491dc074dcb230c7d6751f33219b\", element=\"f.49938AEBEC03ACDD59A7B7113A61FE0E.d.7DF9494DBDCAA6F912E41228F56C549E.e.54442\")>,\n",
       " <selenium.webdriver.remote.webelement.WebElement (session=\"0556491dc074dcb230c7d6751f33219b\", element=\"f.49938AEBEC03ACDD59A7B7113A61FE0E.d.7DF9494DBDCAA6F912E41228F56C549E.e.54454\")>,\n",
       " <selenium.webdriver.remote.webelement.WebElement (session=\"0556491dc074dcb230c7d6751f33219b\", element=\"f.49938AEBEC03ACDD59A7B7113A61FE0E.d.7DF9494DBDCAA6F912E41228F56C549E.e.54466\")>,\n",
       " <selenium.webdriver.remote.webelement.WebElement (session=\"0556491dc074dcb230c7d6751f33219b\", element=\"f.49938AEBEC03ACDD59A7B7113A61FE0E.d.7DF9494DBDCAA6F912E41228F56C549E.e.54478\")>,\n",
       " <selenium.webdriver.remote.webelement.WebElement (session=\"0556491dc074dcb230c7d6751f33219b\", element=\"f.49938AEBEC03ACDD59A7B7113A61FE0E.d.7DF9494DBDCAA6F912E41228F56C549E.e.54490\")>,\n",
       " <selenium.webdriver.remote.webelement.WebElement (session=\"0556491dc074dcb230c7d6751f33219b\", element=\"f.49938AEBEC03ACDD59A7B7113A61FE0E.d.7DF9494DBDCAA6F912E41228F56C549E.e.54502\")>,\n",
       " <selenium.webdriver.remote.webelement.WebElement (session=\"0556491dc074dcb230c7d6751f33219b\", element=\"f.49938AEBEC03ACDD59A7B7113A61FE0E.d.7DF9494DBDCAA6F912E41228F56C549E.e.54514\")>,\n",
       " <selenium.webdriver.remote.webelement.WebElement (session=\"0556491dc074dcb230c7d6751f33219b\", element=\"f.49938AEBEC03ACDD59A7B7113A61FE0E.d.7DF9494DBDCAA6F912E41228F56C549E.e.50848\")>,\n",
       " <selenium.webdriver.remote.webelement.WebElement (session=\"0556491dc074dcb230c7d6751f33219b\", element=\"f.49938AEBEC03ACDD59A7B7113A61FE0E.d.7DF9494DBDCAA6F912E41228F56C549E.e.50781\")>]"
      ]
     },
     "execution_count": 141,
     "metadata": {},
     "output_type": "execute_result"
    }
   ],
   "source": [
    "page.find_elements(By.CLASS_NAME, \"_23gJ9\")"
   ]
  },
  {
   "cell_type": "code",
   "execution_count": 78,
   "id": "e5fe2e68",
   "metadata": {
    "collapsed": true
   },
   "outputs": [
    {
     "data": {
      "text/plain": [
       "0           https://market.yandex.ru/my/orders?track=menu\n",
       "1                        https://market.yandex.ru/my/cart\n",
       "2       https://passport.yandex.ru/auth?retpath=http%3...\n",
       "3       https://passport.yandex.ru/auth?retpath=http%3...\n",
       "4                                                     NaN\n",
       "                              ...                        \n",
       "3666    https://market.yandex.ru/catalog--mobilnye-tel...\n",
       "3667    https://market.yandex.ru/catalog--mobilnye-tel...\n",
       "3668    https://market.yandex.ru/catalog--mobilnye-tel...\n",
       "3669    https://market.yandex.ru/catalog--mobilnye-tel...\n",
       "3670    https://market.yandex.ru/catalog--telefony-dli...\n",
       "Name: link, Length: 3671, dtype: object"
      ]
     },
     "execution_count": 78,
     "metadata": {},
     "output_type": "execute_result"
    }
   ],
   "source": [
    "_1j1RQ _1MOwX _2eMnU i1Eun"
   ]
  },
  {
   "cell_type": "code",
   "execution_count": null,
   "id": "76e6df00",
   "metadata": {},
   "outputs": [],
   "source": [
    "Признаки какие нужны: \n",
    "    название, fR_05\n",
    "    цена, _2-_Mi\n",
    "    операционная система, _2pWiw\n",
    "    количество ядер,\n",
    "    встроенная память,\n",
    "    диагональ экрана,\n",
    "    материал корпуса, \n",
    "    Частота обновления экрана, \n",
    "    Цвет, \n",
    "    Вес, \n",
    "    Время заряда"
   ]
  },
  {
   "cell_type": "markdown",
   "id": "ba355f20",
   "metadata": {},
   "source": [
    "# Пример"
   ]
  },
  {
   "cell_type": "code",
   "execution_count": 10,
   "id": "43001768",
   "metadata": {},
   "outputs": [],
   "source": [
    "def pageBottom(driver): # Функция, чтобы прокрутить страницу вниз\n",
    "    bottom=False\n",
    "    a=0\n",
    "    while not bottom:\n",
    "        new_height = driver.execute_script(\"return document.body.scrollHeight\")\n",
    "        driver.execute_script(f\"window.scrollTo(0, {a});\")\n",
    "        if a > new_height:\n",
    "            bottom=True\n",
    "        a+=5\n",
    "## Источник: https://stackoverflow.com/questions/30942041/slow-scrolling-down-the-page-using-selenium\n",
    "\n",
    "def get_links(): #Собириаем ссылки на товары\n",
    "    prod = page.find_elements(By.CLASS_NAME, \"product-card__wrapper\")\n",
    "    print(len(prod))\n",
    "    for el in prod:\n",
    "        try:\n",
    "            lst_of_links.add(el.find_element(By.TAG_NAME,'a').get_property('href'))\n",
    "        except:\n",
    "            continue"
   ]
  },
  {
   "cell_type": "code",
   "execution_count": 14,
   "id": "c39f715d",
   "metadata": {
    "collapsed": true
   },
   "outputs": [
    {
     "name": "stdout",
     "output_type": "stream",
     "text": [
      "100\n"
     ]
    },
    {
     "ename": "KeyboardInterrupt",
     "evalue": "",
     "output_type": "error",
     "traceback": [
      "\u001b[1;31m---------------------------------------------------------------------------\u001b[0m",
      "\u001b[1;31mKeyboardInterrupt\u001b[0m                         Traceback (most recent call last)",
      "Cell \u001b[1;32mIn[14], line 7\u001b[0m\n\u001b[0;32m      5\u001b[0m     link \u001b[38;5;241m=\u001b[39m url \u001b[38;5;241m+\u001b[39m \u001b[38;5;28mstr\u001b[39m(i)\n\u001b[0;32m      6\u001b[0m     page\u001b[38;5;241m.\u001b[39mget(link)\n\u001b[1;32m----> 7\u001b[0m     pageBottom(page)\n\u001b[0;32m      8\u001b[0m     get_links()\n\u001b[0;32m      9\u001b[0m \u001b[38;5;28mprint\u001b[39m (\u001b[38;5;28mlen\u001b[39m(lst_of_links))\n",
      "Cell \u001b[1;32mIn[10], line 5\u001b[0m, in \u001b[0;36mpageBottom\u001b[1;34m(driver)\u001b[0m\n\u001b[0;32m      3\u001b[0m a\u001b[38;5;241m=\u001b[39m\u001b[38;5;241m0\u001b[39m\n\u001b[0;32m      4\u001b[0m \u001b[38;5;28;01mwhile\u001b[39;00m \u001b[38;5;129;01mnot\u001b[39;00m bottom:\n\u001b[1;32m----> 5\u001b[0m     new_height \u001b[38;5;241m=\u001b[39m driver\u001b[38;5;241m.\u001b[39mexecute_script(\u001b[38;5;124m\"\u001b[39m\u001b[38;5;124mreturn document.body.scrollHeight\u001b[39m\u001b[38;5;124m\"\u001b[39m)\n\u001b[0;32m      6\u001b[0m     driver\u001b[38;5;241m.\u001b[39mexecute_script(\u001b[38;5;124mf\u001b[39m\u001b[38;5;124m\"\u001b[39m\u001b[38;5;124mwindow.scrollTo(0, \u001b[39m\u001b[38;5;132;01m{\u001b[39;00ma\u001b[38;5;132;01m}\u001b[39;00m\u001b[38;5;124m);\u001b[39m\u001b[38;5;124m\"\u001b[39m)\n\u001b[0;32m      7\u001b[0m     \u001b[38;5;28;01mif\u001b[39;00m a \u001b[38;5;241m>\u001b[39m new_height:\n",
      "File \u001b[1;32mE:\\anaconda\\Lib\\site-packages\\selenium\\webdriver\\remote\\webdriver.py:407\u001b[0m, in \u001b[0;36mWebDriver.execute_script\u001b[1;34m(self, script, *args)\u001b[0m\n\u001b[0;32m    404\u001b[0m converted_args \u001b[38;5;241m=\u001b[39m \u001b[38;5;28mlist\u001b[39m(args)\n\u001b[0;32m    405\u001b[0m command \u001b[38;5;241m=\u001b[39m Command\u001b[38;5;241m.\u001b[39mW3C_EXECUTE_SCRIPT\n\u001b[1;32m--> 407\u001b[0m \u001b[38;5;28;01mreturn\u001b[39;00m \u001b[38;5;28mself\u001b[39m\u001b[38;5;241m.\u001b[39mexecute(command, {\u001b[38;5;124m\"\u001b[39m\u001b[38;5;124mscript\u001b[39m\u001b[38;5;124m\"\u001b[39m: script, \u001b[38;5;124m\"\u001b[39m\u001b[38;5;124margs\u001b[39m\u001b[38;5;124m\"\u001b[39m: converted_args})[\u001b[38;5;124m\"\u001b[39m\u001b[38;5;124mvalue\u001b[39m\u001b[38;5;124m\"\u001b[39m]\n",
      "File \u001b[1;32mE:\\anaconda\\Lib\\site-packages\\selenium\\webdriver\\remote\\webdriver.py:345\u001b[0m, in \u001b[0;36mWebDriver.execute\u001b[1;34m(self, driver_command, params)\u001b[0m\n\u001b[0;32m    342\u001b[0m     \u001b[38;5;28;01melif\u001b[39;00m \u001b[38;5;124m\"\u001b[39m\u001b[38;5;124msessionId\u001b[39m\u001b[38;5;124m\"\u001b[39m \u001b[38;5;129;01mnot\u001b[39;00m \u001b[38;5;129;01min\u001b[39;00m params:\n\u001b[0;32m    343\u001b[0m         params[\u001b[38;5;124m\"\u001b[39m\u001b[38;5;124msessionId\u001b[39m\u001b[38;5;124m\"\u001b[39m] \u001b[38;5;241m=\u001b[39m \u001b[38;5;28mself\u001b[39m\u001b[38;5;241m.\u001b[39msession_id\n\u001b[1;32m--> 345\u001b[0m response \u001b[38;5;241m=\u001b[39m \u001b[38;5;28mself\u001b[39m\u001b[38;5;241m.\u001b[39mcommand_executor\u001b[38;5;241m.\u001b[39mexecute(driver_command, params)\n\u001b[0;32m    346\u001b[0m \u001b[38;5;28;01mif\u001b[39;00m response:\n\u001b[0;32m    347\u001b[0m     \u001b[38;5;28mself\u001b[39m\u001b[38;5;241m.\u001b[39merror_handler\u001b[38;5;241m.\u001b[39mcheck_response(response)\n",
      "File \u001b[1;32mE:\\anaconda\\Lib\\site-packages\\selenium\\webdriver\\remote\\remote_connection.py:302\u001b[0m, in \u001b[0;36mRemoteConnection.execute\u001b[1;34m(self, command, params)\u001b[0m\n\u001b[0;32m    300\u001b[0m trimmed \u001b[38;5;241m=\u001b[39m \u001b[38;5;28mself\u001b[39m\u001b[38;5;241m.\u001b[39m_trim_large_entries(params)\n\u001b[0;32m    301\u001b[0m LOGGER\u001b[38;5;241m.\u001b[39mdebug(\u001b[38;5;124m\"\u001b[39m\u001b[38;5;132;01m%s\u001b[39;00m\u001b[38;5;124m \u001b[39m\u001b[38;5;132;01m%s\u001b[39;00m\u001b[38;5;124m \u001b[39m\u001b[38;5;132;01m%s\u001b[39;00m\u001b[38;5;124m\"\u001b[39m, command_info[\u001b[38;5;241m0\u001b[39m], url, \u001b[38;5;28mstr\u001b[39m(trimmed))\n\u001b[1;32m--> 302\u001b[0m \u001b[38;5;28;01mreturn\u001b[39;00m \u001b[38;5;28mself\u001b[39m\u001b[38;5;241m.\u001b[39m_request(command_info[\u001b[38;5;241m0\u001b[39m], url, body\u001b[38;5;241m=\u001b[39mdata)\n",
      "File \u001b[1;32mE:\\anaconda\\Lib\\site-packages\\selenium\\webdriver\\remote\\remote_connection.py:322\u001b[0m, in \u001b[0;36mRemoteConnection._request\u001b[1;34m(self, method, url, body)\u001b[0m\n\u001b[0;32m    319\u001b[0m     body \u001b[38;5;241m=\u001b[39m \u001b[38;5;28;01mNone\u001b[39;00m\n\u001b[0;32m    321\u001b[0m \u001b[38;5;28;01mif\u001b[39;00m \u001b[38;5;28mself\u001b[39m\u001b[38;5;241m.\u001b[39mkeep_alive:\n\u001b[1;32m--> 322\u001b[0m     response \u001b[38;5;241m=\u001b[39m \u001b[38;5;28mself\u001b[39m\u001b[38;5;241m.\u001b[39m_conn\u001b[38;5;241m.\u001b[39mrequest(method, url, body\u001b[38;5;241m=\u001b[39mbody, headers\u001b[38;5;241m=\u001b[39mheaders)\n\u001b[0;32m    323\u001b[0m     statuscode \u001b[38;5;241m=\u001b[39m response\u001b[38;5;241m.\u001b[39mstatus\n\u001b[0;32m    324\u001b[0m \u001b[38;5;28;01melse\u001b[39;00m:\n",
      "File \u001b[1;32mE:\\anaconda\\Lib\\site-packages\\urllib3\\_request_methods.py:118\u001b[0m, in \u001b[0;36mRequestMethods.request\u001b[1;34m(self, method, url, body, fields, headers, json, **urlopen_kw)\u001b[0m\n\u001b[0;32m    110\u001b[0m     \u001b[38;5;28;01mreturn\u001b[39;00m \u001b[38;5;28mself\u001b[39m\u001b[38;5;241m.\u001b[39mrequest_encode_url(\n\u001b[0;32m    111\u001b[0m         method,\n\u001b[0;32m    112\u001b[0m         url,\n\u001b[1;32m   (...)\u001b[0m\n\u001b[0;32m    115\u001b[0m         \u001b[38;5;241m*\u001b[39m\u001b[38;5;241m*\u001b[39murlopen_kw,\n\u001b[0;32m    116\u001b[0m     )\n\u001b[0;32m    117\u001b[0m \u001b[38;5;28;01melse\u001b[39;00m:\n\u001b[1;32m--> 118\u001b[0m     \u001b[38;5;28;01mreturn\u001b[39;00m \u001b[38;5;28mself\u001b[39m\u001b[38;5;241m.\u001b[39mrequest_encode_body(\n\u001b[0;32m    119\u001b[0m         method, url, fields\u001b[38;5;241m=\u001b[39mfields, headers\u001b[38;5;241m=\u001b[39mheaders, \u001b[38;5;241m*\u001b[39m\u001b[38;5;241m*\u001b[39murlopen_kw\n\u001b[0;32m    120\u001b[0m     )\n",
      "File \u001b[1;32mE:\\anaconda\\Lib\\site-packages\\urllib3\\_request_methods.py:217\u001b[0m, in \u001b[0;36mRequestMethods.request_encode_body\u001b[1;34m(self, method, url, fields, headers, encode_multipart, multipart_boundary, **urlopen_kw)\u001b[0m\n\u001b[0;32m    213\u001b[0m     extra_kw[\u001b[38;5;124m\"\u001b[39m\u001b[38;5;124mheaders\u001b[39m\u001b[38;5;124m\"\u001b[39m]\u001b[38;5;241m.\u001b[39msetdefault(\u001b[38;5;124m\"\u001b[39m\u001b[38;5;124mContent-Type\u001b[39m\u001b[38;5;124m\"\u001b[39m, content_type)\n\u001b[0;32m    215\u001b[0m extra_kw\u001b[38;5;241m.\u001b[39mupdate(urlopen_kw)\n\u001b[1;32m--> 217\u001b[0m \u001b[38;5;28;01mreturn\u001b[39;00m \u001b[38;5;28mself\u001b[39m\u001b[38;5;241m.\u001b[39murlopen(method, url, \u001b[38;5;241m*\u001b[39m\u001b[38;5;241m*\u001b[39mextra_kw)\n",
      "File \u001b[1;32mE:\\anaconda\\Lib\\site-packages\\urllib3\\poolmanager.py:443\u001b[0m, in \u001b[0;36mPoolManager.urlopen\u001b[1;34m(self, method, url, redirect, **kw)\u001b[0m\n\u001b[0;32m    441\u001b[0m     response \u001b[38;5;241m=\u001b[39m conn\u001b[38;5;241m.\u001b[39murlopen(method, url, \u001b[38;5;241m*\u001b[39m\u001b[38;5;241m*\u001b[39mkw)\n\u001b[0;32m    442\u001b[0m \u001b[38;5;28;01melse\u001b[39;00m:\n\u001b[1;32m--> 443\u001b[0m     response \u001b[38;5;241m=\u001b[39m conn\u001b[38;5;241m.\u001b[39murlopen(method, u\u001b[38;5;241m.\u001b[39mrequest_uri, \u001b[38;5;241m*\u001b[39m\u001b[38;5;241m*\u001b[39mkw)\n\u001b[0;32m    445\u001b[0m redirect_location \u001b[38;5;241m=\u001b[39m redirect \u001b[38;5;129;01mand\u001b[39;00m response\u001b[38;5;241m.\u001b[39mget_redirect_location()\n\u001b[0;32m    446\u001b[0m \u001b[38;5;28;01mif\u001b[39;00m \u001b[38;5;129;01mnot\u001b[39;00m redirect_location:\n",
      "File \u001b[1;32mE:\\anaconda\\Lib\\site-packages\\urllib3\\connectionpool.py:791\u001b[0m, in \u001b[0;36mHTTPConnectionPool.urlopen\u001b[1;34m(self, method, url, body, headers, retries, redirect, assert_same_host, timeout, pool_timeout, release_conn, chunked, body_pos, preload_content, decode_content, **response_kw)\u001b[0m\n\u001b[0;32m    788\u001b[0m response_conn \u001b[38;5;241m=\u001b[39m conn \u001b[38;5;28;01mif\u001b[39;00m \u001b[38;5;129;01mnot\u001b[39;00m release_conn \u001b[38;5;28;01melse\u001b[39;00m \u001b[38;5;28;01mNone\u001b[39;00m\n\u001b[0;32m    790\u001b[0m \u001b[38;5;66;03m# Make the request on the HTTPConnection object\u001b[39;00m\n\u001b[1;32m--> 791\u001b[0m response \u001b[38;5;241m=\u001b[39m \u001b[38;5;28mself\u001b[39m\u001b[38;5;241m.\u001b[39m_make_request(\n\u001b[0;32m    792\u001b[0m     conn,\n\u001b[0;32m    793\u001b[0m     method,\n\u001b[0;32m    794\u001b[0m     url,\n\u001b[0;32m    795\u001b[0m     timeout\u001b[38;5;241m=\u001b[39mtimeout_obj,\n\u001b[0;32m    796\u001b[0m     body\u001b[38;5;241m=\u001b[39mbody,\n\u001b[0;32m    797\u001b[0m     headers\u001b[38;5;241m=\u001b[39mheaders,\n\u001b[0;32m    798\u001b[0m     chunked\u001b[38;5;241m=\u001b[39mchunked,\n\u001b[0;32m    799\u001b[0m     retries\u001b[38;5;241m=\u001b[39mretries,\n\u001b[0;32m    800\u001b[0m     response_conn\u001b[38;5;241m=\u001b[39mresponse_conn,\n\u001b[0;32m    801\u001b[0m     preload_content\u001b[38;5;241m=\u001b[39mpreload_content,\n\u001b[0;32m    802\u001b[0m     decode_content\u001b[38;5;241m=\u001b[39mdecode_content,\n\u001b[0;32m    803\u001b[0m     \u001b[38;5;241m*\u001b[39m\u001b[38;5;241m*\u001b[39mresponse_kw,\n\u001b[0;32m    804\u001b[0m )\n\u001b[0;32m    806\u001b[0m \u001b[38;5;66;03m# Everything went great!\u001b[39;00m\n\u001b[0;32m    807\u001b[0m clean_exit \u001b[38;5;241m=\u001b[39m \u001b[38;5;28;01mTrue\u001b[39;00m\n",
      "File \u001b[1;32mE:\\anaconda\\Lib\\site-packages\\urllib3\\connectionpool.py:537\u001b[0m, in \u001b[0;36mHTTPConnectionPool._make_request\u001b[1;34m(self, conn, method, url, body, headers, retries, timeout, chunked, response_conn, preload_content, decode_content, enforce_content_length)\u001b[0m\n\u001b[0;32m    535\u001b[0m \u001b[38;5;66;03m# Receive the response from the server\u001b[39;00m\n\u001b[0;32m    536\u001b[0m \u001b[38;5;28;01mtry\u001b[39;00m:\n\u001b[1;32m--> 537\u001b[0m     response \u001b[38;5;241m=\u001b[39m conn\u001b[38;5;241m.\u001b[39mgetresponse()\n\u001b[0;32m    538\u001b[0m \u001b[38;5;28;01mexcept\u001b[39;00m (BaseSSLError, \u001b[38;5;167;01mOSError\u001b[39;00m) \u001b[38;5;28;01mas\u001b[39;00m e:\n\u001b[0;32m    539\u001b[0m     \u001b[38;5;28mself\u001b[39m\u001b[38;5;241m.\u001b[39m_raise_timeout(err\u001b[38;5;241m=\u001b[39me, url\u001b[38;5;241m=\u001b[39murl, timeout_value\u001b[38;5;241m=\u001b[39mread_timeout)\n",
      "File \u001b[1;32mE:\\anaconda\\Lib\\site-packages\\urllib3\\connection.py:461\u001b[0m, in \u001b[0;36mHTTPConnection.getresponse\u001b[1;34m(self)\u001b[0m\n\u001b[0;32m    458\u001b[0m \u001b[38;5;28;01mfrom\u001b[39;00m \u001b[38;5;21;01m.\u001b[39;00m\u001b[38;5;21;01mresponse\u001b[39;00m \u001b[38;5;28;01mimport\u001b[39;00m HTTPResponse\n\u001b[0;32m    460\u001b[0m \u001b[38;5;66;03m# Get the response from http.client.HTTPConnection\u001b[39;00m\n\u001b[1;32m--> 461\u001b[0m httplib_response \u001b[38;5;241m=\u001b[39m \u001b[38;5;28msuper\u001b[39m()\u001b[38;5;241m.\u001b[39mgetresponse()\n\u001b[0;32m    463\u001b[0m \u001b[38;5;28;01mtry\u001b[39;00m:\n\u001b[0;32m    464\u001b[0m     assert_header_parsing(httplib_response\u001b[38;5;241m.\u001b[39mmsg)\n",
      "File \u001b[1;32mE:\\anaconda\\Lib\\http\\client.py:1386\u001b[0m, in \u001b[0;36mHTTPConnection.getresponse\u001b[1;34m(self)\u001b[0m\n\u001b[0;32m   1384\u001b[0m \u001b[38;5;28;01mtry\u001b[39;00m:\n\u001b[0;32m   1385\u001b[0m     \u001b[38;5;28;01mtry\u001b[39;00m:\n\u001b[1;32m-> 1386\u001b[0m         response\u001b[38;5;241m.\u001b[39mbegin()\n\u001b[0;32m   1387\u001b[0m     \u001b[38;5;28;01mexcept\u001b[39;00m \u001b[38;5;167;01mConnectionError\u001b[39;00m:\n\u001b[0;32m   1388\u001b[0m         \u001b[38;5;28mself\u001b[39m\u001b[38;5;241m.\u001b[39mclose()\n",
      "File \u001b[1;32mE:\\anaconda\\Lib\\http\\client.py:325\u001b[0m, in \u001b[0;36mHTTPResponse.begin\u001b[1;34m(self)\u001b[0m\n\u001b[0;32m    323\u001b[0m \u001b[38;5;66;03m# read until we get a non-100 response\u001b[39;00m\n\u001b[0;32m    324\u001b[0m \u001b[38;5;28;01mwhile\u001b[39;00m \u001b[38;5;28;01mTrue\u001b[39;00m:\n\u001b[1;32m--> 325\u001b[0m     version, status, reason \u001b[38;5;241m=\u001b[39m \u001b[38;5;28mself\u001b[39m\u001b[38;5;241m.\u001b[39m_read_status()\n\u001b[0;32m    326\u001b[0m     \u001b[38;5;28;01mif\u001b[39;00m status \u001b[38;5;241m!=\u001b[39m CONTINUE:\n\u001b[0;32m    327\u001b[0m         \u001b[38;5;28;01mbreak\u001b[39;00m\n",
      "File \u001b[1;32mE:\\anaconda\\Lib\\http\\client.py:286\u001b[0m, in \u001b[0;36mHTTPResponse._read_status\u001b[1;34m(self)\u001b[0m\n\u001b[0;32m    285\u001b[0m \u001b[38;5;28;01mdef\u001b[39;00m \u001b[38;5;21m_read_status\u001b[39m(\u001b[38;5;28mself\u001b[39m):\n\u001b[1;32m--> 286\u001b[0m     line \u001b[38;5;241m=\u001b[39m \u001b[38;5;28mstr\u001b[39m(\u001b[38;5;28mself\u001b[39m\u001b[38;5;241m.\u001b[39mfp\u001b[38;5;241m.\u001b[39mreadline(_MAXLINE \u001b[38;5;241m+\u001b[39m \u001b[38;5;241m1\u001b[39m), \u001b[38;5;124m\"\u001b[39m\u001b[38;5;124miso-8859-1\u001b[39m\u001b[38;5;124m\"\u001b[39m)\n\u001b[0;32m    287\u001b[0m     \u001b[38;5;28;01mif\u001b[39;00m \u001b[38;5;28mlen\u001b[39m(line) \u001b[38;5;241m>\u001b[39m _MAXLINE:\n\u001b[0;32m    288\u001b[0m         \u001b[38;5;28;01mraise\u001b[39;00m LineTooLong(\u001b[38;5;124m\"\u001b[39m\u001b[38;5;124mstatus line\u001b[39m\u001b[38;5;124m\"\u001b[39m)\n",
      "File \u001b[1;32mE:\\anaconda\\Lib\\socket.py:706\u001b[0m, in \u001b[0;36mSocketIO.readinto\u001b[1;34m(self, b)\u001b[0m\n\u001b[0;32m    704\u001b[0m \u001b[38;5;28;01mwhile\u001b[39;00m \u001b[38;5;28;01mTrue\u001b[39;00m:\n\u001b[0;32m    705\u001b[0m     \u001b[38;5;28;01mtry\u001b[39;00m:\n\u001b[1;32m--> 706\u001b[0m         \u001b[38;5;28;01mreturn\u001b[39;00m \u001b[38;5;28mself\u001b[39m\u001b[38;5;241m.\u001b[39m_sock\u001b[38;5;241m.\u001b[39mrecv_into(b)\n\u001b[0;32m    707\u001b[0m     \u001b[38;5;28;01mexcept\u001b[39;00m timeout:\n\u001b[0;32m    708\u001b[0m         \u001b[38;5;28mself\u001b[39m\u001b[38;5;241m.\u001b[39m_timeout_occurred \u001b[38;5;241m=\u001b[39m \u001b[38;5;28;01mTrue\u001b[39;00m\n",
      "\u001b[1;31mKeyboardInterrupt\u001b[0m: "
     ]
    }
   ],
   "source": [
    "url = 'https://www.wildberries.ru/catalog/elektronika/noutbuki-pereferiya/noutbuki-ultrabuki?sort=popular&page='\n",
    "lst_of_links = set()\n",
    "\n",
    "for i in range(1, 18):\n",
    "    link = url + str(i)\n",
    "    page.get(link)\n",
    "    pageBottom(page)\n",
    "    get_links()\n",
    "print (len(lst_of_links))\n",
    "lst = pd.DataFrame(lst_of_links)\n",
    "lst.to_csv('url.csv', sep = '\\n', index = False,  header = False )"
   ]
  },
  {
   "cell_type": "markdown",
   "id": "27d02ead",
   "metadata": {},
   "source": [
    "Итак, код сработал исправно: на каждой из первых 16-ти страниц располагается ровно 100 товаров (далее необходимо кликнуть `Следующая страница`), и ровно столько ссылок на каждой странице и собрал код выше. Теперь они хранятся в файле `url.csv`)"
   ]
  },
  {
   "cell_type": "code",
   "execution_count": 75,
   "id": "ac36d607",
   "metadata": {},
   "outputs": [
    {
     "name": "stderr",
     "output_type": "stream",
     "text": [
      "1608it [3:12:26,  7.18s/it]\n"
     ]
    },
    {
     "data": {
      "text/html": [
       "<div>\n",
       "<style scoped>\n",
       "    .dataframe tbody tr th:only-of-type {\n",
       "        vertical-align: middle;\n",
       "    }\n",
       "\n",
       "    .dataframe tbody tr th {\n",
       "        vertical-align: top;\n",
       "    }\n",
       "\n",
       "    .dataframe thead th {\n",
       "        text-align: right;\n",
       "    }\n",
       "</style>\n",
       "<table border=\"1\" class=\"dataframe\">\n",
       "  <thead>\n",
       "    <tr style=\"text-align: right;\">\n",
       "      <th></th>\n",
       "      <th>Цена</th>\n",
       "      <th>Диагональ экрана</th>\n",
       "      <th>Объем накопителя SSD</th>\n",
       "      <th>Объем оперативной памяти</th>\n",
       "      <th>Количество ядер процессора</th>\n",
       "      <th>Комплектация</th>\n",
       "      <th>Емкость аккумулятора</th>\n",
       "      <th>Вес</th>\n",
       "      <th>Операционная система</th>\n",
       "    </tr>\n",
       "  </thead>\n",
       "  <tbody>\n",
       "    <tr>\n",
       "      <th>Ноутбук Megabook T1 (i5) 16/512Гб (Linux)</th>\n",
       "      <td>43 230 ₽</td>\n",
       "      <td>15.6\"</td>\n",
       "      <td>512 Гб</td>\n",
       "      <td>16 ГБ</td>\n",
       "      <td>4</td>\n",
       "      <td>документация, адаптер питания</td>\n",
       "      <td>70 Вт*Ч</td>\n",
       "      <td>1.48 кг</td>\n",
       "      <td>Linux</td>\n",
       "    </tr>\n",
       "    <tr>\n",
       "      <th>Ноутбук ASUS VivoBook 15 15.6\"FHD OLED I5/8Gb/512SSD/W11</th>\n",
       "      <td>75 800 ₽</td>\n",
       "      <td>15.6</td>\n",
       "      <td>512</td>\n",
       "      <td>8 ГБ</td>\n",
       "      <td>4</td>\n",
       "      <td>Ноутбук, зарядное устройство, документация</td>\n",
       "      <td></td>\n",
       "      <td>1.4 кг</td>\n",
       "      <td>Windows Home</td>\n",
       "    </tr>\n",
       "    <tr>\n",
       "      <th>Ноутбук 15.6\" Notebook Pink Intel Celeron N5095 2.0GHz</th>\n",
       "      <td>32 679 ₽</td>\n",
       "      <td>15.6</td>\n",
       "      <td>512 Гб</td>\n",
       "      <td>16</td>\n",
       "      <td></td>\n",
       "      <td>коробка; ноутбук; накладка на клавиатуру</td>\n",
       "      <td></td>\n",
       "      <td></td>\n",
       "      <td></td>\n",
       "    </tr>\n",
       "    <tr>\n",
       "      <th>Ноутбук Lenovo Ideapad 3 Intel Core i3-1115G4</th>\n",
       "      <td>39 800 ₽</td>\n",
       "      <td>15.6</td>\n",
       "      <td>256 Гб</td>\n",
       "      <td>4</td>\n",
       "      <td>4</td>\n",
       "      <td>Ноутбук, зарядное устройство, сетевой адаптер</td>\n",
       "      <td></td>\n",
       "      <td>1.5 кг</td>\n",
       "      <td>Windows Pro</td>\n",
       "    </tr>\n",
       "    <tr>\n",
       "      <th>Карта роблокс Roblox 25 USD 2000 робукс Robux</th>\n",
       "      <td>2 450 ₽</td>\n",
       "      <td></td>\n",
       "      <td></td>\n",
       "      <td></td>\n",
       "      <td></td>\n",
       "      <td>Подарочная карта роблокс ребусы roblox robux к...</td>\n",
       "      <td></td>\n",
       "      <td></td>\n",
       "      <td></td>\n",
       "    </tr>\n",
       "    <tr>\n",
       "      <th>...</th>\n",
       "      <td>...</td>\n",
       "      <td>...</td>\n",
       "      <td>...</td>\n",
       "      <td>...</td>\n",
       "      <td>...</td>\n",
       "      <td>...</td>\n",
       "      <td>...</td>\n",
       "      <td>...</td>\n",
       "      <td>...</td>\n",
       "    </tr>\n",
       "    <tr>\n",
       "      <th>Ноутбук AZ-1511 15.6\"/4x2.0Ghz/16Gb/256Gb</th>\n",
       "      <td>28 025 ₽</td>\n",
       "      <td>15.6''</td>\n",
       "      <td>256 Гб</td>\n",
       "      <td>16 ГБ</td>\n",
       "      <td>4</td>\n",
       "      <td>Блок питания - 1 шт; Ноутбук - 1 шт</td>\n",
       "      <td>5000 mAh</td>\n",
       "      <td>1.9 кг</td>\n",
       "      <td>Windows</td>\n",
       "    </tr>\n",
       "    <tr>\n",
       "      <th>Ноутбук Lenovo Thinkbook 15 G2 ITL Intel Core i5 1135G7/8Gb/SSD256Gb/15.6\"/IPS/FHD/Win11Pro/grey</th>\n",
       "      <td>61 725 ₽</td>\n",
       "      <td>15.6</td>\n",
       "      <td>256 Гб</td>\n",
       "      <td>8 ГБ</td>\n",
       "      <td>4</td>\n",
       "      <td>Ноутбук - 1 шт</td>\n",
       "      <td></td>\n",
       "      <td>1.7 кг</td>\n",
       "      <td>WIN11 Pro</td>\n",
       "    </tr>\n",
       "    <tr>\n",
       "      <th>Ноутбук Acer NX.ABDER.007(i5/16,1/256Гб/8Гб/UMA/noOS)</th>\n",
       "      <td>50 760 ₽</td>\n",
       "      <td>16.1\"</td>\n",
       "      <td>256 Гб</td>\n",
       "      <td>8 ГБ</td>\n",
       "      <td>4</td>\n",
       "      <td></td>\n",
       "      <td></td>\n",
       "      <td></td>\n",
       "      <td>noOS</td>\n",
       "    </tr>\n",
       "    <tr>\n",
       "      <th>Ноутбук Gigabyte AORUS 15P KD (15.6 \", FHD 1920x1080 (16:9), Intel, Core i7, 16 Гб, SSD)</th>\n",
       "      <td>205 000 ₽</td>\n",
       "      <td>15.6 \"</td>\n",
       "      <td>1 Тб</td>\n",
       "      <td>16 ГБ</td>\n",
       "      <td>8 шт; 8 Ядер 16 потоков</td>\n",
       "      <td></td>\n",
       "      <td>6700 mAh</td>\n",
       "      <td>2.29 кг</td>\n",
       "      <td>Windows 11 Home</td>\n",
       "    </tr>\n",
       "    <tr>\n",
       "      <th>Ноутбук IdeaPad 3 15IGL05 lenovo</th>\n",
       "      <td>54 000 ₽</td>\n",
       "      <td>15.6 дюйм</td>\n",
       "      <td>256.0Гб</td>\n",
       "      <td>4ГБ</td>\n",
       "      <td>2 ядра</td>\n",
       "      <td></td>\n",
       "      <td></td>\n",
       "      <td>1.7 кг</td>\n",
       "      <td>DOS</td>\n",
       "    </tr>\n",
       "  </tbody>\n",
       "</table>\n",
       "<p>1208 rows × 9 columns</p>\n",
       "</div>"
      ],
      "text/plain": [
       "                                                         Цена  \\\n",
       "Ноутбук Megabook T1 (i5) 16/512Гб (Linux)            43 230 ₽   \n",
       "Ноутбук ASUS VivoBook 15 15.6\"FHD OLED I5/8Gb/5...   75 800 ₽   \n",
       "Ноутбук 15.6\" Notebook Pink Intel Celeron N5095...   32 679 ₽   \n",
       "Ноутбук Lenovo Ideapad 3 Intel Core i3-1115G4        39 800 ₽   \n",
       "Карта роблокс Roblox 25 USD 2000 робукс Robux         2 450 ₽   \n",
       "...                                                       ...   \n",
       "Ноутбук AZ-1511 15.6\"/4x2.0Ghz/16Gb/256Gb            28 025 ₽   \n",
       "Ноутбук Lenovo Thinkbook 15 G2 ITL Intel Core i...   61 725 ₽   \n",
       "Ноутбук Acer NX.ABDER.007(i5/16,1/256Гб/8Гб/UMA...   50 760 ₽   \n",
       "Ноутбук Gigabyte AORUS 15P KD (15.6 \", FHD 1920...  205 000 ₽   \n",
       "Ноутбук IdeaPad 3 15IGL05 lenovo                     54 000 ₽   \n",
       "\n",
       "                                                   Диагональ экрана  \\\n",
       "Ноутбук Megabook T1 (i5) 16/512Гб (Linux)                     15.6\"   \n",
       "Ноутбук ASUS VivoBook 15 15.6\"FHD OLED I5/8Gb/5...             15.6   \n",
       "Ноутбук 15.6\" Notebook Pink Intel Celeron N5095...             15.6   \n",
       "Ноутбук Lenovo Ideapad 3 Intel Core i3-1115G4                  15.6   \n",
       "Карта роблокс Roblox 25 USD 2000 робукс Robux                         \n",
       "...                                                             ...   \n",
       "Ноутбук AZ-1511 15.6\"/4x2.0Ghz/16Gb/256Gb                    15.6''   \n",
       "Ноутбук Lenovo Thinkbook 15 G2 ITL Intel Core i...             15.6   \n",
       "Ноутбук Acer NX.ABDER.007(i5/16,1/256Гб/8Гб/UMA...            16.1\"   \n",
       "Ноутбук Gigabyte AORUS 15P KD (15.6 \", FHD 1920...           15.6 \"   \n",
       "Ноутбук IdeaPad 3 15IGL05 lenovo                          15.6 дюйм   \n",
       "\n",
       "                                                   Объем накопителя SSD  \\\n",
       "Ноутбук Megabook T1 (i5) 16/512Гб (Linux)                        512 Гб   \n",
       "Ноутбук ASUS VivoBook 15 15.6\"FHD OLED I5/8Gb/5...                  512   \n",
       "Ноутбук 15.6\" Notebook Pink Intel Celeron N5095...               512 Гб   \n",
       "Ноутбук Lenovo Ideapad 3 Intel Core i3-1115G4                    256 Гб   \n",
       "Карта роблокс Roblox 25 USD 2000 робукс Robux                             \n",
       "...                                                                 ...   \n",
       "Ноутбук AZ-1511 15.6\"/4x2.0Ghz/16Gb/256Gb                        256 Гб   \n",
       "Ноутбук Lenovo Thinkbook 15 G2 ITL Intel Core i...               256 Гб   \n",
       "Ноутбук Acer NX.ABDER.007(i5/16,1/256Гб/8Гб/UMA...               256 Гб   \n",
       "Ноутбук Gigabyte AORUS 15P KD (15.6 \", FHD 1920...                 1 Тб   \n",
       "Ноутбук IdeaPad 3 15IGL05 lenovo                                256.0Гб   \n",
       "\n",
       "                                                   Объем оперативной памяти  \\\n",
       "Ноутбук Megabook T1 (i5) 16/512Гб (Linux)                             16 ГБ   \n",
       "Ноутбук ASUS VivoBook 15 15.6\"FHD OLED I5/8Gb/5...                     8 ГБ   \n",
       "Ноутбук 15.6\" Notebook Pink Intel Celeron N5095...                       16   \n",
       "Ноутбук Lenovo Ideapad 3 Intel Core i3-1115G4                             4   \n",
       "Карта роблокс Roblox 25 USD 2000 робукс Robux                                 \n",
       "...                                                                     ...   \n",
       "Ноутбук AZ-1511 15.6\"/4x2.0Ghz/16Gb/256Gb                             16 ГБ   \n",
       "Ноутбук Lenovo Thinkbook 15 G2 ITL Intel Core i...                     8 ГБ   \n",
       "Ноутбук Acer NX.ABDER.007(i5/16,1/256Гб/8Гб/UMA...                     8 ГБ   \n",
       "Ноутбук Gigabyte AORUS 15P KD (15.6 \", FHD 1920...                    16 ГБ   \n",
       "Ноутбук IdeaPad 3 15IGL05 lenovo                                        4ГБ   \n",
       "\n",
       "                                                   Количество ядер процессора  \\\n",
       "Ноутбук Megabook T1 (i5) 16/512Гб (Linux)                                   4   \n",
       "Ноутбук ASUS VivoBook 15 15.6\"FHD OLED I5/8Gb/5...                          4   \n",
       "Ноутбук 15.6\" Notebook Pink Intel Celeron N5095...                              \n",
       "Ноутбук Lenovo Ideapad 3 Intel Core i3-1115G4                               4   \n",
       "Карта роблокс Roblox 25 USD 2000 робукс Robux                                   \n",
       "...                                                                       ...   \n",
       "Ноутбук AZ-1511 15.6\"/4x2.0Ghz/16Gb/256Gb                                   4   \n",
       "Ноутбук Lenovo Thinkbook 15 G2 ITL Intel Core i...                          4   \n",
       "Ноутбук Acer NX.ABDER.007(i5/16,1/256Гб/8Гб/UMA...                          4   \n",
       "Ноутбук Gigabyte AORUS 15P KD (15.6 \", FHD 1920...    8 шт; 8 Ядер 16 потоков   \n",
       "Ноутбук IdeaPad 3 15IGL05 lenovo                                       2 ядра   \n",
       "\n",
       "                                                                                         Комплектация  \\\n",
       "Ноутбук Megabook T1 (i5) 16/512Гб (Linux)                               документация, адаптер питания   \n",
       "Ноутбук ASUS VivoBook 15 15.6\"FHD OLED I5/8Gb/5...         Ноутбук, зарядное устройство, документация   \n",
       "Ноутбук 15.6\" Notebook Pink Intel Celeron N5095...           коробка; ноутбук; накладка на клавиатуру   \n",
       "Ноутбук Lenovo Ideapad 3 Intel Core i3-1115G4           Ноутбук, зарядное устройство, сетевой адаптер   \n",
       "Карта роблокс Roblox 25 USD 2000 робукс Robux       Подарочная карта роблокс ребусы roblox robux к...   \n",
       "...                                                                                               ...   \n",
       "Ноутбук AZ-1511 15.6\"/4x2.0Ghz/16Gb/256Gb                         Блок питания - 1 шт; Ноутбук - 1 шт   \n",
       "Ноутбук Lenovo Thinkbook 15 G2 ITL Intel Core i...                                     Ноутбук - 1 шт   \n",
       "Ноутбук Acer NX.ABDER.007(i5/16,1/256Гб/8Гб/UMA...                                                      \n",
       "Ноутбук Gigabyte AORUS 15P KD (15.6 \", FHD 1920...                                                      \n",
       "Ноутбук IdeaPad 3 15IGL05 lenovo                                                                        \n",
       "\n",
       "                                                   Емкость аккумулятора  \\\n",
       "Ноутбук Megabook T1 (i5) 16/512Гб (Linux)                       70 Вт*Ч   \n",
       "Ноутбук ASUS VivoBook 15 15.6\"FHD OLED I5/8Gb/5...                        \n",
       "Ноутбук 15.6\" Notebook Pink Intel Celeron N5095...                        \n",
       "Ноутбук Lenovo Ideapad 3 Intel Core i3-1115G4                             \n",
       "Карта роблокс Roblox 25 USD 2000 робукс Robux                             \n",
       "...                                                                 ...   \n",
       "Ноутбук AZ-1511 15.6\"/4x2.0Ghz/16Gb/256Gb                      5000 mAh   \n",
       "Ноутбук Lenovo Thinkbook 15 G2 ITL Intel Core i...                        \n",
       "Ноутбук Acer NX.ABDER.007(i5/16,1/256Гб/8Гб/UMA...                        \n",
       "Ноутбук Gigabyte AORUS 15P KD (15.6 \", FHD 1920...             6700 mAh   \n",
       "Ноутбук IdeaPad 3 15IGL05 lenovo                                          \n",
       "\n",
       "                                                        Вес  \\\n",
       "Ноутбук Megabook T1 (i5) 16/512Гб (Linux)           1.48 кг   \n",
       "Ноутбук ASUS VivoBook 15 15.6\"FHD OLED I5/8Gb/5...   1.4 кг   \n",
       "Ноутбук 15.6\" Notebook Pink Intel Celeron N5095...            \n",
       "Ноутбук Lenovo Ideapad 3 Intel Core i3-1115G4        1.5 кг   \n",
       "Карта роблокс Roblox 25 USD 2000 робукс Robux                 \n",
       "...                                                     ...   \n",
       "Ноутбук AZ-1511 15.6\"/4x2.0Ghz/16Gb/256Gb            1.9 кг   \n",
       "Ноутбук Lenovo Thinkbook 15 G2 ITL Intel Core i...   1.7 кг   \n",
       "Ноутбук Acer NX.ABDER.007(i5/16,1/256Гб/8Гб/UMA...            \n",
       "Ноутбук Gigabyte AORUS 15P KD (15.6 \", FHD 1920...  2.29 кг   \n",
       "Ноутбук IdeaPad 3 15IGL05 lenovo                     1.7 кг   \n",
       "\n",
       "                                                   Операционная система  \n",
       "Ноутбук Megabook T1 (i5) 16/512Гб (Linux)                         Linux  \n",
       "Ноутбук ASUS VivoBook 15 15.6\"FHD OLED I5/8Gb/5...         Windows Home  \n",
       "Ноутбук 15.6\" Notebook Pink Intel Celeron N5095...                       \n",
       "Ноутбук Lenovo Ideapad 3 Intel Core i3-1115G4               Windows Pro  \n",
       "Карта роблокс Roblox 25 USD 2000 робукс Robux                            \n",
       "...                                                                 ...  \n",
       "Ноутбук AZ-1511 15.6\"/4x2.0Ghz/16Gb/256Gb                       Windows  \n",
       "Ноутбук Lenovo Thinkbook 15 G2 ITL Intel Core i...            WIN11 Pro  \n",
       "Ноутбук Acer NX.ABDER.007(i5/16,1/256Гб/8Гб/UMA...                 noOS  \n",
       "Ноутбук Gigabyte AORUS 15P KD (15.6 \", FHD 1920...      Windows 11 Home  \n",
       "Ноутбук IdeaPad 3 15IGL05 lenovo                                    DOS  \n",
       "\n",
       "[1208 rows x 9 columns]"
      ]
     },
     "execution_count": 75,
     "metadata": {},
     "output_type": "execute_result"
    }
   ],
   "source": [
    "laptops = {}\n",
    "page.get('https://www.wildberries.ru/catalog/elektronika/noutbuki-pereferiya/noutbuki-ultrabuki?sort=popular&page=1')\n",
    "with open('url.csv', 'r', encoding = 'utf-8') as file:\n",
    "    for line in tqdm(file):\n",
    "        url = line.strip()\n",
    "        page.get(url)\n",
    "        time.sleep(5)\n",
    "        try:\n",
    "            name = page.find_element(By.CLASS_NAME, 'product-page__header-wrap').find_element(By.TAG_NAME, 'h1').text\n",
    "            price = page.find_element(By.CLASS_NAME, 'price-block__final-price').text\n",
    "        \n",
    "            try:\n",
    "                page.find_elements(By.CLASS_NAME, 'collapsible__bottom')[-1].find_element(By.TAG_NAME, 'button').click()\n",
    "            except: \n",
    "                continue\n",
    "            d = dict()\n",
    "            a = page.find_elements(By.CSS_SELECTOR, 'td.product-params__cell')\n",
    "            b = page.find_elements(By.CSS_SELECTOR, 'th.product-params__cell')\n",
    "            for i, j in zip(a, b):\n",
    "                ch = j.text\n",
    "                q = i.text\n",
    "                d[ch]= q\n",
    "            try:\n",
    "                diagonal = d['Диагональ экрана']\n",
    "            except:\n",
    "                diagonal = ''\n",
    "            try: \n",
    "                ssd = d['Объем накопителя SSD']\n",
    "            except:\n",
    "                ssd = ''\n",
    "            try:\n",
    "                cores = d['Количество ядер процессора']\n",
    "            except:\n",
    "                cores = ''\n",
    "            try:\n",
    "                compl = d['Комплектация']\n",
    "            except:\n",
    "                compl = ''\n",
    "            try:\n",
    "                ac = d['Емкость аккумулятора']\n",
    "            except:\n",
    "                ac = ''\n",
    "            try:\n",
    "                weight = d['Вес без упаковки (кг)']\n",
    "            except:\n",
    "                weight = ''\n",
    "            try:\n",
    "                op = d['Операционная система']\n",
    "            except:\n",
    "                op = ''\n",
    "            try:\n",
    "                ram = d['Объем оперативной памяти (Гб)']\n",
    "            except:\n",
    "                ram = ''\n",
    "            laptops[name] = {'Цена': price,\n",
    "                             'Диагональ экрана': diagonal, \n",
    "                             'Объем накопителя SSD': ssd,\n",
    "                             'Объем оперативной памяти': ram,\n",
    "                             'Количество ядер процессора':cores,\n",
    "                             'Комплектация': compl,\n",
    "                             'Емкость аккумулятора': ac,\n",
    "                             'Вес': weight,\n",
    "                             'Операционная система': op\n",
    "                            }\n",
    "        except:\n",
    "            continue\n",
    "df = pd.DataFrame(laptops).T\n",
    "pd.DataFrame(laptops).T.to_csv('laptops.csv')\n",
    "df"
   ]
  },
  {
   "cell_type": "markdown",
   "id": "96be354a",
   "metadata": {},
   "source": [
    "Получаем следующую таблицу. Данные выглядят очень разнородно: им предстоит длительная обработка. Вся она будет сделана в файле `Проект`. Сейчас лишь немного подправим:"
   ]
  },
  {
   "cell_type": "code",
   "execution_count": 87,
   "id": "8d2bd412",
   "metadata": {},
   "outputs": [],
   "source": [
    "df[df == ''] = np.nan # все пропуски заполним NaN"
   ]
  },
  {
   "cell_type": "code",
   "execution_count": 91,
   "id": "4ab10b1f",
   "metadata": {},
   "outputs": [],
   "source": [
    "df = df.dropna (subset=['Объем накопителя SSD']) \n",
    "''' Удалим товары с отсутствующим Объемом SSD. Скорее всего, это не ноутбуки, а случайно \n",
    "попавшие на страницу иные товары (выше можно заметить, что такие товары действительно есть:\n",
    "например, \"Карта роблокс Roblox 25 USD 2000 робукс Robux\")"
   ]
  },
  {
   "cell_type": "code",
   "execution_count": 94,
   "id": "4ee08f37",
   "metadata": {},
   "outputs": [
    {
     "name": "stdout",
     "output_type": "stream",
     "text": [
      "<class 'pandas.core.frame.DataFrame'>\n",
      "Index: 1106 entries, Ноутбук Megabook T1 (i5) 16/512Гб (Linux) to Ноутбук IdeaPad 3 15IGL05 lenovo\n",
      "Data columns (total 9 columns):\n",
      " #   Column                      Non-Null Count  Dtype \n",
      "---  ------                      --------------  ----- \n",
      " 0   Цена                        1106 non-null   object\n",
      " 1   Диагональ экрана            1104 non-null   object\n",
      " 2   Объем накопителя SSD        1106 non-null   object\n",
      " 3   Объем оперативной памяти    1103 non-null   object\n",
      " 4   Количество ядер процессора  1082 non-null   object\n",
      " 5   Комплектация                815 non-null    object\n",
      " 6   Емкость аккумулятора        541 non-null    object\n",
      " 7   Вес                         817 non-null    object\n",
      " 8   Операционная система        1062 non-null   object\n",
      "dtypes: object(9)\n",
      "memory usage: 86.4+ KB\n"
     ]
    }
   ],
   "source": [
    "df.info()"
   ]
  },
  {
   "cell_type": "code",
   "execution_count": 95,
   "id": "c5e701bf",
   "metadata": {},
   "outputs": [],
   "source": [
    "df.to_csv('data.csv')"
   ]
  }
 ],
 "metadata": {
  "kernelspec": {
   "display_name": "Python 3 (ipykernel)",
   "language": "python",
   "name": "python3"
  },
  "language_info": {
   "codemirror_mode": {
    "name": "ipython",
    "version": 3
   },
   "file_extension": ".py",
   "mimetype": "text/x-python",
   "name": "python",
   "nbconvert_exporter": "python",
   "pygments_lexer": "ipython3",
   "version": "3.11.5"
  }
 },
 "nbformat": 4,
 "nbformat_minor": 5
}
